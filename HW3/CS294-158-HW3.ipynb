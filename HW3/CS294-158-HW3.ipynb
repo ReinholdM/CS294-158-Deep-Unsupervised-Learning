{
 "cells": [
  {
   "cell_type": "markdown",
   "metadata": {},
   "source": [
    "# HW3: Variational Autoencoders\n",
    "**Meng Linghui**  "
   ]
  },
  {
   "cell_type": "markdown",
   "metadata": {},
   "source": [
    "mengreinhold@163.com"
   ]
  },
  {
   "cell_type": "markdown",
   "metadata": {},
   "source": [
    "## 1 VAE in 2D\n",
    "### Part A"
   ]
  },
  {
   "cell_type": "markdown",
   "metadata": {},
   "source": [
    "In this problem, you will investigate when a VAE places information into its latent code. Run this snippet generate two datasets: "
   ]
  },
  {
   "cell_type": "code",
   "execution_count": 36,
   "metadata": {},
   "outputs": [],
   "source": [
    "import numpy as np\n",
    "def sample_data_1():\n",
    "    count = 100000\n",
    "    rand = np.random.RandomState(0)\n",
    "    return [[1.0, 2.0]] + rand.randn(count, 2) * [[5.0, 1.0]]\n",
    "def sample_data_2():\n",
    "    count = 100000\n",
    "    rand = np.random.RandomState(0)\n",
    "    return [[1.0, 2.0]] + (rand.randn(count, 2) * [[5.0, 1.0]]).dot([[np.sqrt(2) / 2, np.sqrt(2) / 2], [-np.sqrt(2) / 2, np.sqrt(2) / 2]])\n"
   ]
  },
  {
   "cell_type": "markdown",
   "metadata": {},
   "source": [
    "**Train one VAE in this configuration on both datasets:**  \n",
    "• 2D latent variables z with a standard normal prior $p(z) = N(z;0,I)$.   \n",
    "• An approximate posterior $q_\\theta(z|x) = N(z;\\mu_\\theta(x),\\sigma_\\theta(x))$, where $\\mu_\\theta(x)$ is a mean vector and $\\sigma_\\theta(x)$ and is a diagonal covariance matrix   \n",
    "• A decoder $p_\\theta(x|z) = N(x;\\mu_\\theta(z),\\sigma_\\theta(z))$, where $\\mu_\\theta(z)$ is a mean vector and $\\sigma_\\theta(z)$ and is a diagonal covariance matrix "
   ]
  },
  {
   "cell_type": "markdown",
   "metadata": {},
   "source": [
    "### show the sample data"
   ]
  },
  {
   "cell_type": "code",
   "execution_count": 35,
   "metadata": {},
   "outputs": [
    {
     "data": {
      "image/png": "[encoded data removed]",
      "text/plain": [
       "<Figure size 288x288 with 1 Axes>"
      ]
     },
     "metadata": {
      "needs_background": "light"
     },
     "output_type": "display_data"
    }
   ],
   "source": [
    "import matplotlib.pyplot as plt\n",
    "x = sample_data_1()\n",
    "plt.figure(figsize=(4,4))\n",
    "plt.plot(x[:,0],x[:,1],'bo')\n",
    "plt.show()"
   ]
  },
  {
   "cell_type": "code",
   "execution_count": 87,
   "metadata": {},
   "outputs": [
    {
     "data": {
      "image/png": "[encoded data removed]",
      "text/plain": [
       "<Figure size 288x288 with 1 Axes>"
      ]
     },
     "metadata": {
      "needs_background": "light"
     },
     "output_type": "display_data"
    }
   ],
   "source": [
    "y = sample_data_2()\n",
    "plt.figure(figsize=(4,4))\n",
    "plt.plot(y[:,0], y[:,1], 'ro')\n",
    "plt.show()"
   ]
  },
  {
   "cell_type": "code",
   "execution_count": 14,
   "metadata": {},
   "outputs": [],
   "source": [
    "def sample_from_q_theta_z_x(x): # encoder\n",
    "    mu = np.mean(x, axis=0)\n",
    "    sigma = np.cov(x, rowvar=False)\n",
    "    z = np.random.normal(mu, sigma, 100000)\n",
    "    return z\n",
    "def sample_from_p_theta_x_z(z): # decoder\n",
    "    mu = np.mean(z, axis=0)\n",
    "    sigma = np.cov(z, rowvar=False)\n",
    "    x = np.random.normal(mu, sigma, 100000)\n",
    "    return x"
   ]
  },
  {
   "cell_type": "code",
   "execution_count": 38,
   "metadata": {},
   "outputs": [],
   "source": [
    "import torch\n",
    "import torch.nn as nn\n",
    "import torch.nn.functional as F"
   ]
  },
  {
   "cell_type": "code",
   "execution_count": 50,
   "metadata": {},
   "outputs": [],
   "source": [
    "x = sample_data_1()\n",
    "# z = np.random.multivariate_normal([0,0], [[1, 1],[1, 1]], 100000)\n",
    "# x = np.hstack((x, z))\n",
    "x = torch.from_numpy(x)\n",
    "training_set = x[:int(len(x)*0.6)] \n",
    "val_set = x[int(len(x)*0.6):int(len(x)*0.8)]\n",
    "test_set = x[int(len(x)*0.8):]"
   ]
  },
  {
   "cell_type": "markdown",
   "metadata": {},
   "source": [
    "### Hyper-param"
   ]
  },
  {
   "cell_type": "code",
   "execution_count": 52,
   "metadata": {},
   "outputs": [],
   "source": [
    "batch_size = 20\n",
    "epochs = 30"
   ]
  },
  {
   "cell_type": "code",
   "execution_count": 83,
   "metadata": {},
   "outputs": [],
   "source": [
    "class SimpleVAE(nn.Module):\n",
    "    def __init__(self, var_dim):\n",
    "        super(SimpleVAE, self).__init__()\n",
    "        self.fc1 = nn.Linear(in_features=2, out_features=32)\n",
    "        self.enc_mean = nn.Linear(in_features=32, out_features=8)\n",
    "        self.enc_logvar = nn.Linear(in_features=32, out_features=var_dim)\n",
    "        self.dec1 = nn.Linear(in_features=8, out_features=32)\n",
    "        self.dec2 = nn.Linear(in_features=32, out_features=2)\n",
    "        self.mse = nn.MSELoss()\n",
    "        \n",
    "    def encoder(self, x):\n",
    "        x = x.type(torch.FloatTensor)\n",
    "        h1 = F.relu(self.fc1(x))\n",
    "        return self.enc_mean(h1), self.enc_logvar(h1)\n",
    "    \n",
    "    def reparameterize(self, mu, logvar):\n",
    "        std = torch.exp(0.5*logvar)\n",
    "        eps = torch.randn_like(std)\n",
    "        return mu + eps * std\n",
    "    \n",
    "    def decoder(self, x):\n",
    "        h2 = F.relu(self.dec1(x))\n",
    "        return self.dec2(h2)\n",
    "    \n",
    "    def forward(self, x):\n",
    "        mu, logvar = self.encoder(x)\n",
    "        z = self.reparameterize(mu, logvar)\n",
    "        return self.decoder(z), mu, logvar\n",
    "    \n",
    "    def loss_function(self, true_x):\n",
    "        batch_size = len(true_x)\n",
    "        x, mu, logvar = self.forward(true_x)\n",
    "        x = x.type(torch.DoubleTensor)\n",
    "        \n",
    "        if self.training:\n",
    "            MSE = 0\n",
    "            for datapoint in true_x:\n",
    "                MSE += self.mse(datapoint, x)\n",
    "            MSE = MSE / len(true_x)\n",
    "        else:\n",
    "            MSE = self.mse(true_x, x)\n",
    "        \n",
    "        KLD = -0.5*torch.sum(1 + logvar - mu ** 2 - torch.exp(logvar))\n",
    "        KLD /= (batch_size * 2)\n",
    "        \n",
    "        return MSE + KLD"
   ]
  },
  {
   "cell_type": "code",
   "execution_count": 84,
   "metadata": {},
   "outputs": [
    {
     "name": "stdout",
     "output_type": "stream",
     "text": [
      "<class 'torch.Tensor'> torch.Size([32, 2])\n",
      "<class 'torch.Tensor'> torch.Size([32])\n",
      "<class 'torch.Tensor'> torch.Size([8, 32])\n",
      "<class 'torch.Tensor'> torch.Size([8])\n",
      "<class 'torch.Tensor'> torch.Size([1, 32])\n",
      "<class 'torch.Tensor'> torch.Size([1])\n",
      "<class 'torch.Tensor'> torch.Size([32, 8])\n",
      "<class 'torch.Tensor'> torch.Size([32])\n",
      "<class 'torch.Tensor'> torch.Size([2, 32])\n",
      "<class 'torch.Tensor'> torch.Size([2])\n"
     ]
    }
   ],
   "source": [
    "net = SimpleVAE(1)\n",
    "optimizer = torch.optim.Adam(net.parameters(), lr=1e-3, weight_decay=0.0001)\n",
    "for param in net.parameters():\n",
    "    print(type(param.data), param.size())"
   ]
  },
  {
   "cell_type": "code",
   "execution_count": 88,
   "metadata": {},
   "outputs": [],
   "source": [
    "import warnings\n",
    "\n",
    "warnings.filterwarnings('ignore')"
   ]
  },
  {
   "cell_type": "code",
   "execution_count": 89,
   "metadata": {},
   "outputs": [
    {
     "name": "stdout",
     "output_type": "stream",
     "text": [
      "Epoch 0: loss 13.22603953842621 val_loss 10.208075580809155 \n",
      "Epoch 10: loss 16.98896396998736 val_loss 14.249209144124393 \n",
      "Epoch 20: loss 11.654572771110406 val_loss 16.559673371136988 \n"
     ]
    },
    {
     "data": {
      "image/png": "[encoded data removed]",
      "text/plain": [
       "<Figure size 432x288 with 1 Axes>"
      ]
     },
     "metadata": {
      "needs_background": "light"
     },
     "output_type": "display_data"
    }
   ],
   "source": [
    "train_iter = torch.utils.data.DataLoader(dataset=training_set, batch_size=batch_size, shuffle=True)\n",
    "val_set_iter = torch.utils.data.DataLoader(dataset=val_set, batch_size=batch_size, shuffle=True)\n",
    "losses = []\n",
    "val_losses = []\n",
    "\n",
    "for epoch in range(epochs):\n",
    "    train_loss = 0\n",
    "    \n",
    "    for train_batch in train_iter:\n",
    "        loss = net.loss_function(train_batch)\n",
    "        \n",
    "        loss.backward()\n",
    "        optimizer.step()\n",
    "        optimizer.zero_grad()\n",
    "        losses.append(loss.data.numpy())\n",
    "        \n",
    "    with torch.set_grad_enabled(False):\n",
    "        val_batch = next(iter(val_set_iter))\n",
    "        val_loss = net.loss_function(val_batch)\n",
    "        val_losses.append(val_loss.data.numpy())\n",
    "        \n",
    "    if epoch % 10 ==0:\n",
    "        print('Epoch {}: loss {} val_loss {} '.format(epoch,losses[-1],val_losses[-1]))\n",
    "        \n",
    "import matplotlib.pyplot as plt\n",
    "plt.plot(losses, label='train_loss')\n",
    "plt.plot(np.arange(0, len(losses), int(len(losses)/len(val_losses))), val_losses, label='val_loss')\n",
    "plt.legend()\n",
    "plt.show()"
   ]
  },
  {
   "cell_type": "code",
   "execution_count": null,
   "metadata": {},
   "outputs": [],
   "source": []
  }
 ],
 "metadata": {
  "kernelspec": {
   "display_name": "Python 3",
   "language": "python",
   "name": "python3"
  },
  "language_info": {
   "codemirror_mode": {
    "name": "ipython",
    "version": 3
   },
   "file_extension": ".py",
   "mimetype": "text/x-python",
   "name": "python",
   "nbconvert_exporter": "python",
   "pygments_lexer": "ipython3",
   "version": "3.7.0"
  }
 },
 "nbformat": 4,
 "nbformat_minor": 2
}
